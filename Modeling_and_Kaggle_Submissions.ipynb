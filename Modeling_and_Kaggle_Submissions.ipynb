{
 "cells": [
  {
   "cell_type": "markdown",
   "metadata": {},
   "source": [
    "# Kaggle Submissions"
   ]
  },
  {
   "cell_type": "code",
   "execution_count": 1,
   "metadata": {},
   "outputs": [],
   "source": [
    "import numpy as np\n",
    "import pandas as pd\n",
    "import matplotlib.pyplot as plt\n",
    "import seaborn as sns\n",
    "from sklearn.model_selection import train_test_split, cross_val_score, GridSearchCV\n",
    "from sklearn.linear_model import LinearRegression, Lasso, RidgeCV\n",
    "from sklearn.metrics import r2_score, mean_squared_error\n",
    "from sklearn.preprocessing import StandardScaler, PolynomialFeatures\n",
    "from sklearn.neighbors import KNeighborsRegressor, KNeighborsClassifier"
   ]
  },
  {
   "cell_type": "code",
   "execution_count": 2,
   "metadata": {},
   "outputs": [],
   "source": [
    "df_train = pd.read_csv('./datasets/updated_train.csv')\n",
    "df_test = pd.read_csv('./datasets/updated_test.csv')\n",
    "Sale = (df_train['saleprice'])\n",
    "test_id = df_test['id'].to_frame()"
   ]
  },
  {
   "cell_type": "markdown",
   "metadata": {},
   "source": [
    "### Preprocessing"
   ]
  },
  {
   "cell_type": "code",
   "execution_count": 3,
   "metadata": {},
   "outputs": [],
   "source": [
    "df_train.drop(columns = 'id', inplace = True)\n",
    "df_test.drop(columns = 'id', inplace = True)"
   ]
  },
  {
   "cell_type": "markdown",
   "metadata": {},
   "source": [
    "### Feature encoding --- one hot/label encoding"
   ]
  },
  {
   "cell_type": "code",
   "execution_count": 4,
   "metadata": {},
   "outputs": [
    {
     "data": {
      "text/plain": [
       "33"
      ]
     },
     "execution_count": 4,
     "metadata": {},
     "output_type": "execute_result"
    }
   ],
   "source": [
    "object_columns = list(df_train.select_dtypes(include = 'object').columns)\n",
    "len(object_columns)"
   ]
  },
  {
   "cell_type": "code",
   "execution_count": 5,
   "metadata": {},
   "outputs": [
    {
     "data": {
      "text/plain": [
       "47"
      ]
     },
     "execution_count": 5,
     "metadata": {},
     "output_type": "execute_result"
    }
   ],
   "source": [
    "num_col = list(df_train.select_dtypes(exclude = 'object').columns)\n",
    "len(num_col)"
   ]
  },
  {
   "cell_type": "code",
   "execution_count": 6,
   "metadata": {},
   "outputs": [
    {
     "name": "stdout",
     "output_type": "stream",
     "text": [
      "ms_zoning : 7\n",
      "street : 2\n",
      "land_contour : 4\n",
      "utilities : 3\n",
      "lot_config : 5\n",
      "land_slope : 3\n",
      "neighborhood : 28\n",
      "condition_1 : 9\n",
      "condition_2 : 8\n",
      "bldg_type : 5\n",
      "roof_style : 6\n",
      "roof_matl : 6\n",
      "exterior_1st : 15\n",
      "exterior_2nd : 15\n",
      "mas_vnr_type : 4\n",
      "exter_qual : 4\n",
      "exter_cond : 5\n",
      "foundation : 6\n",
      "bsmt_qual : 5\n",
      "bsmt_cond : 5\n",
      "bsmt_exposure : 4\n",
      "bsmtfin_type_1 : 6\n",
      "bsmtfin_type_2 : 6\n",
      "heating : 5\n",
      "heating_qc : 5\n",
      "electrical : 5\n",
      "kitchen_qual : 4\n",
      "functional : 8\n",
      "fireplace_qu : 5\n",
      "garage_type : 6\n",
      "garage_finish : 3\n",
      "misc_feature : 5\n",
      "sale_type : 9\n"
     ]
    }
   ],
   "source": [
    "for col in object_columns:\n",
    "    print(col, ':', df_train[col].nunique())"
   ]
  },
  {
   "cell_type": "code",
   "execution_count": 7,
   "metadata": {},
   "outputs": [],
   "source": [
    "dummy = pd.get_dummies(df_train[object_columns], prefix = object_columns)"
   ]
  },
  {
   "cell_type": "code",
   "execution_count": 8,
   "metadata": {},
   "outputs": [
    {
     "data": {
      "text/html": [
       "<div>\n",
       "<style scoped>\n",
       "    .dataframe tbody tr th:only-of-type {\n",
       "        vertical-align: middle;\n",
       "    }\n",
       "\n",
       "    .dataframe tbody tr th {\n",
       "        vertical-align: top;\n",
       "    }\n",
       "\n",
       "    .dataframe thead th {\n",
       "        text-align: right;\n",
       "    }\n",
       "</style>\n",
       "<table border=\"1\" class=\"dataframe\">\n",
       "  <thead>\n",
       "    <tr style=\"text-align: right;\">\n",
       "      <th></th>\n",
       "      <th>ms_zoning_A (agr)</th>\n",
       "      <th>ms_zoning_C (all)</th>\n",
       "      <th>ms_zoning_FV</th>\n",
       "      <th>ms_zoning_I (all)</th>\n",
       "      <th>ms_zoning_RH</th>\n",
       "      <th>ms_zoning_RL</th>\n",
       "      <th>ms_zoning_RM</th>\n",
       "      <th>street_Grvl</th>\n",
       "      <th>street_Pave</th>\n",
       "      <th>land_contour_Bnk</th>\n",
       "      <th>...</th>\n",
       "      <th>misc_feature_TenC</th>\n",
       "      <th>sale_type_COD</th>\n",
       "      <th>sale_type_CWD</th>\n",
       "      <th>sale_type_Con</th>\n",
       "      <th>sale_type_ConLD</th>\n",
       "      <th>sale_type_ConLI</th>\n",
       "      <th>sale_type_ConLw</th>\n",
       "      <th>sale_type_New</th>\n",
       "      <th>sale_type_Oth</th>\n",
       "      <th>sale_type_WD</th>\n",
       "    </tr>\n",
       "  </thead>\n",
       "  <tbody>\n",
       "    <tr>\n",
       "      <th>0</th>\n",
       "      <td>0</td>\n",
       "      <td>0</td>\n",
       "      <td>0</td>\n",
       "      <td>0</td>\n",
       "      <td>0</td>\n",
       "      <td>1</td>\n",
       "      <td>0</td>\n",
       "      <td>0</td>\n",
       "      <td>1</td>\n",
       "      <td>0</td>\n",
       "      <td>...</td>\n",
       "      <td>0</td>\n",
       "      <td>0</td>\n",
       "      <td>0</td>\n",
       "      <td>0</td>\n",
       "      <td>0</td>\n",
       "      <td>0</td>\n",
       "      <td>0</td>\n",
       "      <td>0</td>\n",
       "      <td>0</td>\n",
       "      <td>1</td>\n",
       "    </tr>\n",
       "    <tr>\n",
       "      <th>1</th>\n",
       "      <td>0</td>\n",
       "      <td>0</td>\n",
       "      <td>0</td>\n",
       "      <td>0</td>\n",
       "      <td>0</td>\n",
       "      <td>1</td>\n",
       "      <td>0</td>\n",
       "      <td>0</td>\n",
       "      <td>1</td>\n",
       "      <td>0</td>\n",
       "      <td>...</td>\n",
       "      <td>0</td>\n",
       "      <td>0</td>\n",
       "      <td>0</td>\n",
       "      <td>0</td>\n",
       "      <td>0</td>\n",
       "      <td>0</td>\n",
       "      <td>0</td>\n",
       "      <td>0</td>\n",
       "      <td>0</td>\n",
       "      <td>1</td>\n",
       "    </tr>\n",
       "    <tr>\n",
       "      <th>2</th>\n",
       "      <td>0</td>\n",
       "      <td>0</td>\n",
       "      <td>0</td>\n",
       "      <td>0</td>\n",
       "      <td>0</td>\n",
       "      <td>1</td>\n",
       "      <td>0</td>\n",
       "      <td>0</td>\n",
       "      <td>1</td>\n",
       "      <td>0</td>\n",
       "      <td>...</td>\n",
       "      <td>0</td>\n",
       "      <td>0</td>\n",
       "      <td>0</td>\n",
       "      <td>0</td>\n",
       "      <td>0</td>\n",
       "      <td>0</td>\n",
       "      <td>0</td>\n",
       "      <td>0</td>\n",
       "      <td>0</td>\n",
       "      <td>1</td>\n",
       "    </tr>\n",
       "    <tr>\n",
       "      <th>3</th>\n",
       "      <td>0</td>\n",
       "      <td>0</td>\n",
       "      <td>0</td>\n",
       "      <td>0</td>\n",
       "      <td>0</td>\n",
       "      <td>1</td>\n",
       "      <td>0</td>\n",
       "      <td>0</td>\n",
       "      <td>1</td>\n",
       "      <td>0</td>\n",
       "      <td>...</td>\n",
       "      <td>0</td>\n",
       "      <td>0</td>\n",
       "      <td>0</td>\n",
       "      <td>0</td>\n",
       "      <td>0</td>\n",
       "      <td>0</td>\n",
       "      <td>0</td>\n",
       "      <td>0</td>\n",
       "      <td>0</td>\n",
       "      <td>1</td>\n",
       "    </tr>\n",
       "    <tr>\n",
       "      <th>4</th>\n",
       "      <td>0</td>\n",
       "      <td>0</td>\n",
       "      <td>0</td>\n",
       "      <td>0</td>\n",
       "      <td>0</td>\n",
       "      <td>1</td>\n",
       "      <td>0</td>\n",
       "      <td>0</td>\n",
       "      <td>1</td>\n",
       "      <td>0</td>\n",
       "      <td>...</td>\n",
       "      <td>0</td>\n",
       "      <td>0</td>\n",
       "      <td>0</td>\n",
       "      <td>0</td>\n",
       "      <td>0</td>\n",
       "      <td>0</td>\n",
       "      <td>0</td>\n",
       "      <td>0</td>\n",
       "      <td>0</td>\n",
       "      <td>1</td>\n",
       "    </tr>\n",
       "  </tbody>\n",
       "</table>\n",
       "<p>5 rows × 216 columns</p>\n",
       "</div>"
      ],
      "text/plain": [
       "   ms_zoning_A (agr)  ms_zoning_C (all)  ms_zoning_FV  ms_zoning_I (all)  \\\n",
       "0                  0                  0             0                  0   \n",
       "1                  0                  0             0                  0   \n",
       "2                  0                  0             0                  0   \n",
       "3                  0                  0             0                  0   \n",
       "4                  0                  0             0                  0   \n",
       "\n",
       "   ms_zoning_RH  ms_zoning_RL  ms_zoning_RM  street_Grvl  street_Pave  \\\n",
       "0             0             1             0            0            1   \n",
       "1             0             1             0            0            1   \n",
       "2             0             1             0            0            1   \n",
       "3             0             1             0            0            1   \n",
       "4             0             1             0            0            1   \n",
       "\n",
       "   land_contour_Bnk  ...  misc_feature_TenC  sale_type_COD  sale_type_CWD  \\\n",
       "0                 0  ...                  0              0              0   \n",
       "1                 0  ...                  0              0              0   \n",
       "2                 0  ...                  0              0              0   \n",
       "3                 0  ...                  0              0              0   \n",
       "4                 0  ...                  0              0              0   \n",
       "\n",
       "   sale_type_Con  sale_type_ConLD  sale_type_ConLI  sale_type_ConLw  \\\n",
       "0              0                0                0                0   \n",
       "1              0                0                0                0   \n",
       "2              0                0                0                0   \n",
       "3              0                0                0                0   \n",
       "4              0                0                0                0   \n",
       "\n",
       "   sale_type_New  sale_type_Oth  sale_type_WD   \n",
       "0              0              0              1  \n",
       "1              0              0              1  \n",
       "2              0              0              1  \n",
       "3              0              0              1  \n",
       "4              0              0              1  \n",
       "\n",
       "[5 rows x 216 columns]"
      ]
     },
     "execution_count": 8,
     "metadata": {},
     "output_type": "execute_result"
    }
   ],
   "source": [
    "dummy.head()"
   ]
  },
  {
   "cell_type": "code",
   "execution_count": 9,
   "metadata": {},
   "outputs": [
    {
     "data": {
      "text/plain": [
       "(2051, 47)"
      ]
     },
     "execution_count": 9,
     "metadata": {},
     "output_type": "execute_result"
    }
   ],
   "source": [
    "df_train.drop(object_columns, axis = 1, inplace = True)\n",
    "df_train.shape"
   ]
  },
  {
   "cell_type": "code",
   "execution_count": 10,
   "metadata": {},
   "outputs": [
    {
     "data": {
      "text/plain": [
       "((2051, 216), (2051, 263))"
      ]
     },
     "execution_count": 10,
     "metadata": {},
     "output_type": "execute_result"
    }
   ],
   "source": [
    "df_train_final = pd.concat([df_train, dummy], axis = 1)\n",
    "dummy.shape, df_train_final.shape"
   ]
  },
  {
   "cell_type": "code",
   "execution_count": 11,
   "metadata": {},
   "outputs": [
    {
     "data": {
      "text/plain": [
       "((878, 200), (2051, 216))"
      ]
     },
     "execution_count": 11,
     "metadata": {},
     "output_type": "execute_result"
    }
   ],
   "source": [
    "dummy1 = pd.get_dummies(df_test[object_columns], prefix = object_columns)\n",
    "dummy1.shape, dummy.shape\n",
    "## Inconsisitent of columns\n",
    "## Have to connect them "
   ]
  },
  {
   "cell_type": "code",
   "execution_count": 12,
   "metadata": {},
   "outputs": [],
   "source": [
    "df_train = pd.read_csv('./datasets/updated_train.csv')\n",
    "df_test = pd.read_csv('./datasets/updated_test.csv')"
   ]
  },
  {
   "cell_type": "code",
   "execution_count": 13,
   "metadata": {},
   "outputs": [
    {
     "data": {
      "text/plain": [
       "(2929, 80)"
      ]
     },
     "execution_count": 13,
     "metadata": {},
     "output_type": "execute_result"
    }
   ],
   "source": [
    "df_train_test = pd.concat([df_train.drop('saleprice', axis =1) , df_test], axis = 0)\n",
    "df_train_test.shape"
   ]
  },
  {
   "cell_type": "code",
   "execution_count": 14,
   "metadata": {},
   "outputs": [
    {
     "name": "stdout",
     "output_type": "stream",
     "text": [
      "<class 'pandas.core.frame.DataFrame'>\n",
      "Int64Index: 2929 entries, 0 to 877\n",
      "Data columns (total 80 columns):\n",
      " #   Column           Non-Null Count  Dtype  \n",
      "---  ------           --------------  -----  \n",
      " 0   id               2929 non-null   int64  \n",
      " 1   pid              2929 non-null   int64  \n",
      " 2   ms_subclass      2929 non-null   int64  \n",
      " 3   ms_zoning        2929 non-null   object \n",
      " 4   lot_frontage     2929 non-null   float64\n",
      " 5   lot_area         2929 non-null   int64  \n",
      " 6   street           2929 non-null   object \n",
      " 7   alley            2929 non-null   int64  \n",
      " 8   lot_shape        2929 non-null   int64  \n",
      " 9   land_contour     2929 non-null   object \n",
      " 10  utilities        2929 non-null   object \n",
      " 11  lot_config       2929 non-null   object \n",
      " 12  land_slope       2929 non-null   object \n",
      " 13  neighborhood     2929 non-null   object \n",
      " 14  condition_1      2929 non-null   object \n",
      " 15  condition_2      2929 non-null   object \n",
      " 16  bldg_type        2929 non-null   object \n",
      " 17  house_style      2929 non-null   int64  \n",
      " 18  overall_qual     2929 non-null   int64  \n",
      " 19  overall_cond     2929 non-null   int64  \n",
      " 20  year_built       2929 non-null   int64  \n",
      " 21  year_remod/add   2929 non-null   int64  \n",
      " 22  roof_style       2929 non-null   object \n",
      " 23  roof_matl        2929 non-null   object \n",
      " 24  exterior_1st     2929 non-null   object \n",
      " 25  exterior_2nd     2929 non-null   object \n",
      " 26  mas_vnr_type     2906 non-null   object \n",
      " 27  mas_vnr_area     2929 non-null   float64\n",
      " 28  exter_qual       2929 non-null   object \n",
      " 29  exter_cond       2929 non-null   object \n",
      " 30  foundation       2929 non-null   object \n",
      " 31  bsmt_qual        2849 non-null   object \n",
      " 32  bsmt_cond        2849 non-null   object \n",
      " 33  bsmt_exposure    2846 non-null   object \n",
      " 34  bsmtfin_type_1   2849 non-null   object \n",
      " 35  bsmtfin_sf_1     2929 non-null   float64\n",
      " 36  bsmtfin_type_2   2848 non-null   object \n",
      " 37  bsmtfin_sf_2     2929 non-null   float64\n",
      " 38  bsmt_unf_sf      2929 non-null   float64\n",
      " 39  total_bsmt_sf    2929 non-null   float64\n",
      " 40  heating          2929 non-null   object \n",
      " 41  heating_qc       2929 non-null   object \n",
      " 42  central_air      2929 non-null   int64  \n",
      " 43  electrical       2929 non-null   object \n",
      " 44  1st_flr_sf       2929 non-null   int64  \n",
      " 45  2nd_flr_sf       2929 non-null   int64  \n",
      " 46  low_qual_fin_sf  2929 non-null   int64  \n",
      " 47  gr_liv_area      2929 non-null   int64  \n",
      " 48  bsmt_full_bath   2929 non-null   float64\n",
      " 49  bsmt_half_bath   2929 non-null   float64\n",
      " 50  full_bath        2929 non-null   int64  \n",
      " 51  half_bath        2929 non-null   int64  \n",
      " 52  bedroom_abvgr    2929 non-null   int64  \n",
      " 53  kitchen_abvgr    2929 non-null   int64  \n",
      " 54  kitchen_qual     2929 non-null   object \n",
      " 55  totrms_abvgrd    2929 non-null   int64  \n",
      " 56  functional       2929 non-null   object \n",
      " 57  fireplaces       2929 non-null   int64  \n",
      " 58  fireplace_qu     1507 non-null   object \n",
      " 59  garage_type      2772 non-null   object \n",
      " 60  garage_yr_blt    2929 non-null   float64\n",
      " 61  garage_finish    2770 non-null   object \n",
      " 62  garage_cars      2929 non-null   float64\n",
      " 63  garage_area      2929 non-null   float64\n",
      " 64  garage_qual      2929 non-null   int64  \n",
      " 65  garage_cond      2929 non-null   int64  \n",
      " 66  paved_drive      2929 non-null   int64  \n",
      " 67  wood_deck_sf     2929 non-null   int64  \n",
      " 68  open_porch_sf    2929 non-null   int64  \n",
      " 69  enclosed_porch   2929 non-null   int64  \n",
      " 70  3ssn_porch       2929 non-null   int64  \n",
      " 71  screen_porch     2929 non-null   int64  \n",
      " 72  pool_area        2929 non-null   int64  \n",
      " 73  pool_qc          2929 non-null   int64  \n",
      " 74  fence            2929 non-null   int64  \n",
      " 75  misc_feature     106 non-null    object \n",
      " 76  misc_val         2929 non-null   int64  \n",
      " 77  mo_sold          2929 non-null   int64  \n",
      " 78  yr_sold          2929 non-null   int64  \n",
      " 79  sale_type        2929 non-null   object \n",
      "dtypes: float64(11), int64(36), object(33)\n",
      "memory usage: 1.8+ MB\n"
     ]
    }
   ],
   "source": [
    "df_train_test.info()"
   ]
  },
  {
   "cell_type": "code",
   "execution_count": 15,
   "metadata": {},
   "outputs": [],
   "source": [
    "df_train_test['bsmt_cond'].fillna(df_train_test['bsmt_cond'].mode()[0], inplace = True)\n",
    "df_train_test['bsmt_qual'].fillna(df_train_test['bsmt_qual'].mode()[0], inplace = True)\n",
    "df_train_test['bsmt_exposure'].fillna(df_train_test['bsmt_exposure'].mode()[0], inplace = True)\n",
    "df_train_test['bsmtfin_type_1'].fillna(df_train_test['bsmtfin_type_1'].mode()[0], inplace = True)\n",
    "df_train_test['bsmtfin_type_2'].fillna(df_train_test['bsmtfin_type_2'].mode()[0], inplace = True)\n",
    "df_train_test['fireplace_qu'].fillna(df_train_test['fireplace_qu'].mode()[0], inplace = True)\n",
    "df_train_test['garage_type'].fillna(df_train_test['garage_type'].mode()[0], inplace = True)\n",
    "df_train_test['garage_finish'].fillna(df_train_test['garage_finish'].mode()[0], inplace = True)"
   ]
  },
  {
   "cell_type": "code",
   "execution_count": 16,
   "metadata": {},
   "outputs": [
    {
     "data": {
      "text/plain": [
       "((2051, 216), (878, 200), (2929, 225))"
      ]
     },
     "execution_count": 16,
     "metadata": {},
     "output_type": "execute_result"
    }
   ],
   "source": [
    "dummy2 = pd.get_dummies(df_train_test[object_columns], prefix = object_columns)\n",
    "dummy.shape, dummy1.shape, dummy2.shape"
   ]
  },
  {
   "cell_type": "code",
   "execution_count": 17,
   "metadata": {},
   "outputs": [
    {
     "data": {
      "text/plain": [
       "(2929, 47)"
      ]
     },
     "execution_count": 17,
     "metadata": {},
     "output_type": "execute_result"
    }
   ],
   "source": [
    "df_train_test.drop(object_columns, axis = 1, inplace = True)\n",
    "df_train_test.shape"
   ]
  },
  {
   "cell_type": "code",
   "execution_count": 18,
   "metadata": {},
   "outputs": [
    {
     "data": {
      "text/plain": [
       "(2929, 272)"
      ]
     },
     "execution_count": 18,
     "metadata": {},
     "output_type": "execute_result"
    }
   ],
   "source": [
    "df_train_test_final = pd.concat([df_train_test, dummy2], axis = 1)\n",
    "df_train_test_final.shape"
   ]
  },
  {
   "cell_type": "code",
   "execution_count": 19,
   "metadata": {},
   "outputs": [
    {
     "data": {
      "text/plain": [
       "((2051, 272), (878, 272))"
      ]
     },
     "execution_count": 19,
     "metadata": {},
     "output_type": "execute_result"
    }
   ],
   "source": [
    "df_train_1 = df_train_test_final.iloc[0:2051]\n",
    "df_test_1 = df_train_test_final.iloc[2051:]\n",
    "df_train_1.shape, df_test_1.shape"
   ]
  },
  {
   "cell_type": "code",
   "execution_count": 20,
   "metadata": {},
   "outputs": [],
   "source": [
    "y = (Sale)\n",
    "X = df_train_1"
   ]
  },
  {
   "cell_type": "code",
   "execution_count": 21,
   "metadata": {},
   "outputs": [
    {
     "name": "stdout",
     "output_type": "stream",
     "text": [
      "Testing Score: 0.9149422603172392, Training Score: 0.9446530207062369\n"
     ]
    }
   ],
   "source": [
    "X_train, X_test, y_train, y_test = train_test_split(X, y, random_state = 42, test_size = 0.30)\n",
    "lr = LinearRegression()\n",
    "lr.fit(X_train, y_train)\n",
    "print(f'Testing Score: {lr.score(X_test, y_test)}, Training Score: {lr.score(X_train, y_train)}')\n",
    "predictions = lr.predict(X_test)"
   ]
  },
  {
   "cell_type": "code",
   "execution_count": 22,
   "metadata": {},
   "outputs": [
    {
     "data": {
      "text/plain": [
       "(22548.313206914394, 18830.146611952063)"
      ]
     },
     "execution_count": 22,
     "metadata": {},
     "output_type": "execute_result"
    }
   ],
   "source": [
    "mean_squared_error(y_test, predictions, squared = False), mean_squared_error(y_train, lr.predict(X_train), squared = False)"
   ]
  },
  {
   "cell_type": "markdown",
   "metadata": {},
   "source": [
    "The model is overfitted as the training score and training RMSE are performing way better than the testing score. "
   ]
  },
  {
   "cell_type": "code",
   "execution_count": 23,
   "metadata": {
    "scrolled": true
   },
   "outputs": [
    {
     "data": {
      "text/html": [
       "<div>\n",
       "<style scoped>\n",
       "    .dataframe tbody tr th:only-of-type {\n",
       "        vertical-align: middle;\n",
       "    }\n",
       "\n",
       "    .dataframe tbody tr th {\n",
       "        vertical-align: top;\n",
       "    }\n",
       "\n",
       "    .dataframe thead th {\n",
       "        text-align: right;\n",
       "    }\n",
       "</style>\n",
       "<table border=\"1\" class=\"dataframe\">\n",
       "  <thead>\n",
       "    <tr style=\"text-align: right;\">\n",
       "      <th></th>\n",
       "      <th>col_name</th>\n",
       "      <th>coef</th>\n",
       "    </tr>\n",
       "  </thead>\n",
       "  <tbody>\n",
       "    <tr>\n",
       "      <th>127</th>\n",
       "      <td>roof_matl_ClyTile</td>\n",
       "      <td>-610394.612417</td>\n",
       "    </tr>\n",
       "    <tr>\n",
       "      <th>257</th>\n",
       "      <td>misc_feature_Elev</td>\n",
       "      <td>-559843.291078</td>\n",
       "    </tr>\n",
       "    <tr>\n",
       "      <th>155</th>\n",
       "      <td>exterior_2nd_CBlock</td>\n",
       "      <td>-61386.299470</td>\n",
       "    </tr>\n",
       "    <tr>\n",
       "      <th>47</th>\n",
       "      <td>ms_zoning_A (agr)</td>\n",
       "      <td>-58317.786416</td>\n",
       "    </tr>\n",
       "    <tr>\n",
       "      <th>261</th>\n",
       "      <td>misc_feature_TenC</td>\n",
       "      <td>-40310.803840</td>\n",
       "    </tr>\n",
       "    <tr>\n",
       "      <th>...</th>\n",
       "      <td>...</td>\n",
       "      <td>...</td>\n",
       "    </tr>\n",
       "    <tr>\n",
       "      <th>128</th>\n",
       "      <td>roof_matl_CompShg</td>\n",
       "      <td>94806.405946</td>\n",
       "    </tr>\n",
       "    <tr>\n",
       "      <th>81</th>\n",
       "      <td>neighborhood_GrnHill</td>\n",
       "      <td>102462.293387</td>\n",
       "    </tr>\n",
       "    <tr>\n",
       "      <th>133</th>\n",
       "      <td>roof_matl_WdShake</td>\n",
       "      <td>123646.281560</td>\n",
       "    </tr>\n",
       "    <tr>\n",
       "      <th>129</th>\n",
       "      <td>roof_matl_Membran</td>\n",
       "      <td>132176.796693</td>\n",
       "    </tr>\n",
       "    <tr>\n",
       "      <th>134</th>\n",
       "      <td>roof_matl_WdShngl</td>\n",
       "      <td>179470.052276</td>\n",
       "    </tr>\n",
       "  </tbody>\n",
       "</table>\n",
       "<p>272 rows × 2 columns</p>\n",
       "</div>"
      ],
      "text/plain": [
       "                 col_name           coef\n",
       "127     roof_matl_ClyTile -610394.612417\n",
       "257     misc_feature_Elev -559843.291078\n",
       "155   exterior_2nd_CBlock  -61386.299470\n",
       "47      ms_zoning_A (agr)  -58317.786416\n",
       "261     misc_feature_TenC  -40310.803840\n",
       "..                    ...            ...\n",
       "128     roof_matl_CompShg   94806.405946\n",
       "81   neighborhood_GrnHill  102462.293387\n",
       "133     roof_matl_WdShake  123646.281560\n",
       "129     roof_matl_Membran  132176.796693\n",
       "134     roof_matl_WdShngl  179470.052276\n",
       "\n",
       "[272 rows x 2 columns]"
      ]
     },
     "execution_count": 23,
     "metadata": {},
     "output_type": "execute_result"
    }
   ],
   "source": [
    "coef_df = pd.DataFrame({\n",
    "    'col_name': X.columns,\n",
    "    'coef': lr.coef_\n",
    "})\n",
    "coef_df.sort_values(by = 'coef', ascending = True)"
   ]
  },
  {
   "cell_type": "code",
   "execution_count": 24,
   "metadata": {},
   "outputs": [
    {
     "name": "stdout",
     "output_type": "stream",
     "text": [
      "Training Score: 0.9148306460960375, Testing Score: 0.9073678461654338\n"
     ]
    },
    {
     "data": {
      "text/plain": [
       "(23530.8719775734, 23358.686406767134)"
      ]
     },
     "execution_count": 24,
     "metadata": {},
     "output_type": "execute_result"
    }
   ],
   "source": [
    "## Ridge Model\n",
    "sc = StandardScaler()\n",
    "Z_train = sc.fit_transform(X_train)\n",
    "Z_test = sc.transform(X_test)\n",
    "lr = LinearRegression()\n",
    "lr.fit(Z_train, y_train)\n",
    "lr.score(Z_train, y_train)\n",
    "ridge_alphas = np.logspace(0,3, 20)\n",
    "ridge_cv = RidgeCV(alphas = ridge_alphas, scoring = 'r2', cv = 100)\n",
    "ridge_cv.fit(Z_train, y_train)\n",
    "print(f'Training Score: {ridge_cv.score(Z_train, y_train)}, Testing Score: {ridge_cv.score(Z_test, y_test)}')\n",
    "ridge_preds = ridge_cv.predict(Z_test)\n",
    "mean_squared_error(y_test, ridge_preds, squared = False), mean_squared_error(y_train, ridge_cv.predict(Z_train), squared = False)"
   ]
  },
  {
   "cell_type": "code",
   "execution_count": 25,
   "metadata": {},
   "outputs": [
    {
     "data": {
      "text/plain": [
       "1000.0"
      ]
     },
     "execution_count": 25,
     "metadata": {},
     "output_type": "execute_result"
    }
   ],
   "source": [
    "ridge_cv.alpha_\n",
    "## The optimal value is too large for the computer to run "
   ]
  },
  {
   "cell_type": "markdown",
   "metadata": {},
   "source": [
    "The Ridge model perform worse in the rmse than the linear Regression. However, it has variance and bias trade-off. It is similar in value in both test and train score and rmse"
   ]
  },
  {
   "cell_type": "code",
   "execution_count": 26,
   "metadata": {},
   "outputs": [
    {
     "name": "stdout",
     "output_type": "stream",
     "text": [
      "0.9343450186403408 0.9204166038964948\n"
     ]
    },
    {
     "data": {
      "text/plain": [
       "(21810.638217172545, 20508.81563960044)"
      ]
     },
     "execution_count": 26,
     "metadata": {},
     "output_type": "execute_result"
    }
   ],
   "source": [
    "# Lasso \n",
    "model = Lasso(alpha = 59).fit(X_train, y_train)\n",
    "print(model.score(X_train, y_train), model.score(X_test, y_test))\n",
    "lasso_preds = model.predict(X_test)\n",
    "mean_squared_error(y_test, lasso_preds, squared = False), mean_squared_error(y_train, model.predict(X_train), squared = False)"
   ]
  },
  {
   "cell_type": "markdown",
   "metadata": {},
   "source": [
    "Lasso Perform the best out of the Linear Regression and ridge, as it gives score of 92 on test and 21810 on the rmse. I choose Lasso because since the I had a lot of features that it will perform better. "
   ]
  },
  {
   "cell_type": "code",
   "execution_count": 27,
   "metadata": {},
   "outputs": [
    {
     "data": {
      "text/plain": [
       "(77354.3252026887, 80039.93732744697)"
      ]
     },
     "execution_count": 27,
     "metadata": {},
     "output_type": "execute_result"
    }
   ],
   "source": [
    "## Baseline RMSE\n",
    "baseline_train_preds = [y_train.mean() for i in y_train]\n",
    "baseline_test_preds = [y_train.mean() for i in y_test]\n",
    "## Baseline RMSE for testing and training\n",
    "mean_squared_error(y_true = y_test, y_pred= baseline_test_preds, squared = False),mean_squared_error(y_train, y_pred= baseline_train_preds, squared = False)\n"
   ]
  },
  {
   "cell_type": "markdown",
   "metadata": {},
   "source": [
    "All of the model beats the baseline model by a lot. Lasso performs the best with testing score of 93% and RMSE of 21728. Which beats the baseline by more than 50,000. "
   ]
  },
  {
   "cell_type": "code",
   "execution_count": 28,
   "metadata": {
    "scrolled": true
   },
   "outputs": [
    {
     "data": {
      "text/html": [
       "<div>\n",
       "<style scoped>\n",
       "    .dataframe tbody tr th:only-of-type {\n",
       "        vertical-align: middle;\n",
       "    }\n",
       "\n",
       "    .dataframe tbody tr th {\n",
       "        vertical-align: top;\n",
       "    }\n",
       "\n",
       "    .dataframe thead th {\n",
       "        text-align: right;\n",
       "    }\n",
       "</style>\n",
       "<table border=\"1\" class=\"dataframe\">\n",
       "  <thead>\n",
       "    <tr style=\"text-align: right;\">\n",
       "      <th></th>\n",
       "      <th>Id</th>\n",
       "      <th>SalePrice</th>\n",
       "    </tr>\n",
       "  </thead>\n",
       "  <tbody>\n",
       "    <tr>\n",
       "      <th>0</th>\n",
       "      <td>2658</td>\n",
       "      <td>143079.051945</td>\n",
       "    </tr>\n",
       "    <tr>\n",
       "      <th>1</th>\n",
       "      <td>2718</td>\n",
       "      <td>149430.601555</td>\n",
       "    </tr>\n",
       "    <tr>\n",
       "      <th>2</th>\n",
       "      <td>2414</td>\n",
       "      <td>217132.070282</td>\n",
       "    </tr>\n",
       "    <tr>\n",
       "      <th>3</th>\n",
       "      <td>1989</td>\n",
       "      <td>104842.398646</td>\n",
       "    </tr>\n",
       "    <tr>\n",
       "      <th>4</th>\n",
       "      <td>625</td>\n",
       "      <td>172255.631876</td>\n",
       "    </tr>\n",
       "  </tbody>\n",
       "</table>\n",
       "</div>"
      ],
      "text/plain": [
       "     Id      SalePrice\n",
       "0  2658  143079.051945\n",
       "1  2718  149430.601555\n",
       "2  2414  217132.070282\n",
       "3  1989  104842.398646\n",
       "4   625  172255.631876"
      ]
     },
     "execution_count": 28,
     "metadata": {},
     "output_type": "execute_result"
    }
   ],
   "source": [
    "prediction = pd.DataFrame({'Id': test_id['id'], 'SalePrice': model.predict(df_test_1)}).to_csv('datasets/test_prediction.csv', index = False)\n",
    "prediction = pd.DataFrame({'wage': model.predict(df_test)})\n",
    "prediction.head()"
   ]
  },
  {
   "cell_type": "code",
   "execution_count": 29,
   "metadata": {},
   "outputs": [
    {
     "data": {
      "image/png": "[encoded data removed]",
      "text/plain": [
       "<Figure size 720x432 with 1 Axes>"
      ]
     },
     "metadata": {
      "needs_background": "light"
     },
     "output_type": "display_data"
    }
   ],
   "source": [
    "plt.figure(figsize = (10,6))\n",
    "sns.scatterplot(x = model.predict(X_test), y = y_test, s = 40, alpha = 0.5)\n",
    "plt.xlabel('predicted sale price')\n",
    "plt.title('Predicted vs Actual Sale Price');\n",
    "plt.savefig('Images/Predicted_vs_Actual.png')"
   ]
  },
  {
   "cell_type": "code",
   "execution_count": null,
   "metadata": {},
   "outputs": [],
   "source": []
  }
 ],
 "metadata": {
  "kernelspec": {
   "display_name": "Python 3",
   "language": "python",
   "name": "python3"
  },
  "language_info": {
   "codemirror_mode": {
    "name": "ipython",
    "version": 3
   },
   "file_extension": ".py",
   "mimetype": "text/x-python",
   "name": "python",
   "nbconvert_exporter": "python",
   "pygments_lexer": "ipython3",
   "version": "3.8.5"
  }
 },
 "nbformat": 4,
 "nbformat_minor": 4
}
